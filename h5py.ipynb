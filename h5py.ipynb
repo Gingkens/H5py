{
 "cells": [
  {
   "cell_type": "code",
   "execution_count": 2,
   "metadata": {
    "collapsed": true
   },
   "outputs": [],
   "source": [
    "import numpy as np\n",
    "import h5py"
   ]
  },
  {
   "cell_type": "markdown",
   "metadata": {},
   "source": [
    "# h5py 文件介绍\n",
    "\n",
    "一个h5py文件是 “dataset” 和 “group” 二合一的容器。 \n",
    "1. dataset : 类似数组组织的数据的集合，像 numpy 数组一样工作\n",
    "2. group : 包含了其它 dataset 和 其它 group ，像字典一样工作\n",
    "\n",
    "看下图：\n",
    "![h5py](images/h5py.png)\n",
    "\n",
    "通过上图，我们可以知道 h5py 文件就像是文件夹一样，里面很放文件还有文件夹，主文件夹以 '/' 开始，这又像Linux的树形结构。知道这些我们就可以开始向 h5py 文件读取或者写入了。\n"
   ]
  },
  {
   "cell_type": "code",
   "execution_count": 32,
   "metadata": {},
   "outputs": [
    {
     "name": "stdout",
     "output_type": "stream",
     "text": [
      "subgroup\n",
      "subgroup/subsub\n",
      "subgroup/subsub/test_numpy\n",
      "subgroup/test_numpy\n",
      "test_numpy\n",
      "---------------------------------------\n",
      "KeysView(<HDF5 group \"/subgroup\" (2 members)>)\n",
      "---------------------------------------\n",
      "<HDF5 dataset \"test_numpy\": shape (100,), type \"<i4\">\n",
      "/test_numpy\n",
      "(100,)\n",
      "int32\n",
      "[ 0  1  2  3  4  5  6  7  8  9 10 11 12 13 14 15 16 17 18 19 20 21 22 23 24\n",
      " 25 26 27 28 29 30 31 32 33 34 35 36 37 38 39 40 41 42 43 44 45 46 47 48 49\n",
      " 50 51 52 53 54 55 56 57 58 59 60 61 62 63 64 65 66 67 68 69 70 71 72 73 74\n",
      " 75 76 77 78 79 80 81 82 83 84 85 86 87 88 89 90 91 92 93 94 95 96 97 98 99]\n",
      "---------------------------------------\n"
     ]
    }
   ],
   "source": [
    "\"\"\"\n",
    "    下面代码展示了 h5py 既是dict又是numpy数组特征，我们可以通过 f.keys() 获得 / 下所有的文件及文件夹 ，然后通过 dict 再获取对应的对象\n",
    "    \n",
    "\"\"\"\n",
    "def read_data(filename):\n",
    "    with h5py.File(filename,'r') as f:\n",
    "        \n",
    "        def print_name(name):\n",
    "            print(name)\n",
    "        f.visit(print_name)\n",
    "        print('---------------------------------------')\n",
    "        subgroup = f['subgroup']  \n",
    "        print(subgroup.keys())\n",
    "        print('---------------------------------------')\n",
    "        dset = f['test_numpy']\n",
    "        print(dset)\n",
    "        print(dset.name)\n",
    "        print(dset.shape)\n",
    "        print(dset.dtype)\n",
    "        print(dset[:])\n",
    "        print('---------------------------------------')\n",
    "\n",
    "read_data('test.h5')\n"
   ]
  },
  {
   "cell_type": "code",
   "execution_count": 78,
   "metadata": {},
   "outputs": [],
   "source": [
    "\"\"\"\n",
    "    存储数据\n",
    "\"\"\"\n",
    "x = np.arange(100)\n",
    "\n",
    "with h5py.File('test.h5','w') as f:\n",
    "    f.create_dataset('test_numpy',data=x)\n",
    "    subgroup = f.create_group('subgroup')\n",
    "    subgroup.create_dataset('test_numpy',data=x)\n",
    "    subsub = subgroup.create_group('subsub')\n",
    "    subsub.create_dataset('test_numpy',data=x)"
   ]
  },
  {
   "cell_type": "code",
   "execution_count": 89,
   "metadata": {},
   "outputs": [],
   "source": [
    "\"\"\"\n",
    "    存储字符串\n",
    "\"\"\"\n",
    "dt = h5py.special_dtype(vlen=str)\n",
    "data = np.array([['123'],['456']])\n",
    "with h5py.File('testdict.h5','w') as f:\n",
    "    ds = f.create_dataset('test_dict', data.shape , dtype=dt)\n",
    "    ds[:] = data\n",
    "\n",
    "\n",
    "with h5py.File('testdict.h5','r') as f:\n",
    "    for key in f.keys():\n",
    "        print(key)\n",
    "    dset = f['test_dict']\n",
    "    print(dset.shape)\n",
    "    print(dset[:])"
   ]
  },
  {
   "cell_type": "code",
   "execution_count": null,
   "metadata": {
    "collapsed": true
   },
   "outputs": [],
   "source": []
  }
 ],
 "metadata": {
  "kernelspec": {
   "display_name": "Python 3",
   "language": "python",
   "name": "python3"
  },
  "language_info": {
   "codemirror_mode": {
    "name": "ipython",
    "version": 3
   },
   "file_extension": ".py",
   "mimetype": "text/x-python",
   "name": "python",
   "nbconvert_exporter": "python",
   "pygments_lexer": "ipython3",
   "version": "3.6.3"
  }
 },
 "nbformat": 4,
 "nbformat_minor": 2
}
